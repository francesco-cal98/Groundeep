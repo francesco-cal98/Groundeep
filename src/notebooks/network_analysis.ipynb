{
 "cells": [
  {
   "cell_type": "code",
   "execution_count": 3,
   "metadata": {},
   "outputs": [],
   "source": [
    "import sys\n",
    "import os\n",
    "import gc\n",
    "# Get the absolute path to the main project folder\n",
    "project_root = os.path.abspath(os.path.join(os.getcwd(), \"..\", \"..\"))\n",
    "\n",
    "# Add it to sys.path\n",
    "sys.path.append(project_root)\n",
    "\n",
    "\n",
    "import pickle\n",
    "import numpy as np\n",
    "import pandas as pd\n",
    "from scipy import io\n",
    "from scipy import io\n",
    "import scipy\n",
    "from scipy.stats import norm\n",
    "import torch\n",
    "from src.datasets.zipfian_dataset import create_dataloaders_zipfian\n",
    "from src.datasets.uniform_dataset import create_dataloaders_uniform\n",
    "\n",
    "\n",
    "\n",
    "from CCNL_readout_DBN import forwardrbm,forwardDBN,classifier, beta_extraction\n",
    "import numpy as np\n",
    "import statsmodels.api as sm\n",
    "from sklearn.metrics import accuracy_score\n",
    "import numpy as np\n",
    "from sklearn.metrics import accuracy_score\n",
    "DEVICE = torch.device('cuda' if torch.cuda.is_available() else 'cpu')"
   ]
  },
  {
   "cell_type": "markdown",
   "metadata": {},
   "source": [
    "### Datasets statistics"
   ]
  },
  {
   "cell_type": "code",
   "execution_count": 10,
   "metadata": {},
   "outputs": [],
   "source": [
    "train_loader, val_loader, test_loader = create_dataloaders(\"/home/student/Desktop/Groundeep/training_tensors\", batch_size = 128, num_workers = 1)\n"
   ]
  },
  {
   "cell_type": "code",
   "execution_count": 12,
   "metadata": {},
   "outputs": [
    {
     "data": {
      "text/plain": [
       "294272"
      ]
     },
     "execution_count": 12,
     "metadata": {},
     "output_type": "execute_result"
    }
   ],
   "source": [
    "train_loader.__len__() *128\n"
   ]
  },
  {
   "cell_type": "code",
   "execution_count": 14,
   "metadata": {},
   "outputs": [
    {
     "data": {
      "text/plain": [
       "65900"
      ]
     },
     "execution_count": 14,
     "metadata": {},
     "output_type": "execute_result"
    }
   ],
   "source": [
    "659*100"
   ]
  },
  {
   "cell_type": "code",
   "execution_count": 5,
   "metadata": {},
   "outputs": [
    {
     "name": "stdout",
     "output_type": "stream",
     "text": [
      "Value(False)\n"
     ]
    },
    {
     "ename": "RuntimeError",
     "evalue": "mat1 and mat2 shapes cannot be multiplied (100x10000 and 40000x1000)",
     "output_type": "error",
     "traceback": [
      "\u001b[0;31m---------------------------------------------------------------------------\u001b[0m",
      "\u001b[0;31mRuntimeError\u001b[0m                              Traceback (most recent call last)",
      "Cell \u001b[0;32mIn[5], line 21\u001b[0m\n\u001b[1;32m     18\u001b[0m \u001b[38;5;28;01mwith\u001b[39;00m \u001b[38;5;28mopen\u001b[39m(input_path, \u001b[38;5;124m'\u001b[39m\u001b[38;5;124mrb\u001b[39m\u001b[38;5;124m'\u001b[39m) \u001b[38;5;28;01mas\u001b[39;00m f:\n\u001b[1;32m     19\u001b[0m     dbn \u001b[38;5;241m=\u001b[39m pickle\u001b[38;5;241m.\u001b[39mload(f)\n\u001b[0;32m---> 21\u001b[0m _XtrainComp1 \u001b[38;5;241m=\u001b[39m \u001b[43mforwardDBN\u001b[49m\u001b[43m(\u001b[49m\u001b[43mdbn\u001b[49m\u001b[43m,\u001b[49m\u001b[43mXtrainComp\u001b[49m\u001b[43m[\u001b[49m\u001b[43m:\u001b[49m\u001b[43m,\u001b[49m\u001b[43m \u001b[49m\u001b[43m:\u001b[49m\u001b[43m,\u001b[49m\u001b[43m \u001b[49m\u001b[38;5;241;43m0\u001b[39;49m\u001b[43m:\u001b[49m\u001b[38;5;241;43m10000\u001b[39;49m\u001b[43m]\u001b[49m\u001b[43m)\u001b[49m\u001b[38;5;241m.\u001b[39mclone()\n\u001b[1;32m     22\u001b[0m _YtrainComp \u001b[38;5;241m=\u001b[39m YtrainComp\u001b[38;5;241m.\u001b[39mclone()\n\u001b[1;32m     23\u001b[0m _XtrainComp2 \u001b[38;5;241m=\u001b[39m forwardDBN(dbn, XtrainComp[:, :, \u001b[38;5;241m10000\u001b[39m:\u001b[38;5;241m20000\u001b[39m])\u001b[38;5;241m.\u001b[39mclone()\n",
      "File \u001b[0;32m~/Desktop/Groundeep/CCNL_readout_DBN.py:33\u001b[0m, in \u001b[0;36mforwardDBN\u001b[0;34m(self, X)\u001b[0m\n\u001b[1;32m     31\u001b[0m \u001b[38;5;28;01mfor\u001b[39;00m n \u001b[38;5;129;01min\u001b[39;00m batch_indices:\n\u001b[1;32m     32\u001b[0m     Xtorch \u001b[38;5;241m=\u001b[39m torch\u001b[38;5;241m.\u001b[39mTensor(X[n, :, :])\u001b[38;5;241m.\u001b[39mto(DEVICE)  \u001b[38;5;66;03m# Get a single sample\u001b[39;00m\n\u001b[0;32m---> 33\u001b[0m     _X[n, :, :] \u001b[38;5;241m=\u001b[39m \u001b[43mforwardrbm\u001b[49m\u001b[43m(\u001b[49m\u001b[43mrbm\u001b[49m\u001b[43m,\u001b[49m\u001b[43m \u001b[49m\u001b[43mXtorch\u001b[49m\u001b[38;5;241;43m.\u001b[39;49m\u001b[43mclone\u001b[49m\u001b[43m(\u001b[49m\u001b[43m)\u001b[49m\u001b[43m)\u001b[49m[\u001b[38;5;241m0\u001b[39m]\u001b[38;5;241m.\u001b[39mclone()  \u001b[38;5;66;03m# Store the transformed sample\u001b[39;00m\n\u001b[1;32m     34\u001b[0m \u001b[38;5;66;03m#end\u001b[39;00m\n\u001b[1;32m     35\u001b[0m \n\u001b[1;32m     36\u001b[0m \u001b[38;5;66;03m# Free up memory used by the intermediate tensor\u001b[39;00m\n\u001b[1;32m     37\u001b[0m \u001b[38;5;28;01mdel\u001b[39;00m Xtorch\n",
      "File \u001b[0;32m~/Desktop/Groundeep/CCNL_readout_DBN.py:20\u001b[0m, in \u001b[0;36mforwardrbm\u001b[0;34m(self, v)\u001b[0m\n\u001b[1;32m     19\u001b[0m \u001b[38;5;28;01mdef\u001b[39;00m\u001b[38;5;250m \u001b[39m\u001b[38;5;21mforwardrbm\u001b[39m(\u001b[38;5;28mself\u001b[39m, v):\n\u001b[0;32m---> 20\u001b[0m     p_h \u001b[38;5;241m=\u001b[39m torch\u001b[38;5;241m.\u001b[39msigmoid(\u001b[43mtorch\u001b[49m\u001b[38;5;241;43m.\u001b[39;49m\u001b[43mmatmul\u001b[49m\u001b[43m(\u001b[49m\u001b[43mv\u001b[49m\u001b[43m,\u001b[49m\u001b[43m \u001b[49m\u001b[38;5;28;43mself\u001b[39;49m\u001b[38;5;241;43m.\u001b[39;49m\u001b[43mW\u001b[49m\u001b[43m)\u001b[49m \u001b[38;5;241m+\u001b[39m \u001b[38;5;28mself\u001b[39m\u001b[38;5;241m.\u001b[39mhid_bias)\n\u001b[1;32m     21\u001b[0m     h \u001b[38;5;241m=\u001b[39m (p_h \u001b[38;5;241m>\u001b[39m torch\u001b[38;5;241m.\u001b[39mrand_like(p_h))\u001b[38;5;241m.\u001b[39mfloat()  \u001b[38;5;66;03m# Stochastic activation\u001b[39;00m\n\u001b[1;32m     22\u001b[0m     \u001b[38;5;28;01mreturn\u001b[39;00m p_h, h\n",
      "\u001b[0;31mRuntimeError\u001b[0m: mat1 and mat2 shapes cannot be multiplied (100x10000 and 40000x1000)"
     ]
    }
   ],
   "source": [
    "path_to_dbn=\"/home/student/Desktop/Groundeep/networks/non_zipfian\"\n",
    "name_of_dbn=\"idbn_trained_uniform_1000_1500\"\n",
    "path_to_train_dataset='/home/student/Desktop/Groundeep/pairs_from_mat_train.pkl'\n",
    "path_to_test_dataset= '/home/student/Desktop/Groundeep/pairs_from_mat_test.pkl'\n",
    "test_file = '/home/student/Desktop/Groundeep/NumStim_1to32_100x100_TE.mat'\n",
    "output_file = 'model_coefficients_results_5.xlsx'\n",
    "# Prepare the results for saving into an Excel file\n",
    "results = []\n",
    "layer_size = [1000, 1500]\n",
    "\n",
    "train_dataset = pickle.load(open(path_to_train_dataset, 'rb'))\n",
    "XtrainComp, YtrainComp, idxs_train = train_dataset['data'].to(DEVICE), train_dataset['labels'].to(DEVICE), train_dataset['idxs'].to(DEVICE)\n",
    "test_dataset = pickle.load(open(path_to_test_dataset, 'rb'))\n",
    "XtestComp, YtestComp, idxs_test = test_dataset['data'].to(DEVICE), test_dataset['labels'].to(DEVICE), test_dataset['idxs'].to(DEVICE)\n",
    "from scipy import io\n",
    "\n",
    "input_path= f\"{path_to_dbn}/{name_of_dbn}.pkl\"\n",
    "with open(input_path, 'rb') as f:\n",
    "    dbn = pickle.load(f)\n",
    "\n",
    "_XtrainComp1 = forwardDBN(dbn,XtrainComp[:, :, 0:10000]).clone()\n",
    "_YtrainComp = YtrainComp.clone()\n",
    "_XtrainComp2 = forwardDBN(dbn, XtrainComp[:, :, 10000:20000]).clone()\n",
    "_XtrainComp = torch.cat((_XtrainComp1, _XtrainComp2), 2)\n",
    "del _XtrainComp1, _XtrainComp2\n",
    "\n",
    "_XtestComp1 = forwardDBN(dbn, XtestComp[:, :, 0:10000]).clone()\n",
    "_YtestComp = YtestComp.clone()\n",
    "_XtestComp2 = forwardDBN(dbn, XtestComp[:, :, 10000:20000]).clone()\n",
    "_XtestComp = torch.cat((_XtestComp1, _XtestComp2), 2)\n",
    "del _XtestComp1, _XtestComp2\n",
    "\n",
    "\n",
    "accTR, predTR, acc, choice = classifier(_XtrainComp,  _XtestComp, _YtrainComp, _YtestComp)\n",
    "\n",
    "\n",
    "test_contents = io.loadmat(test_file)\n",
    "\n",
    "N_list_test = test_contents['N_list']\n",
    "TSA_list_test = test_contents['TSA_list']\n",
    "FA_list_test = test_contents['FA_list']\n",
    "\n",
    "# Run the model for the current layer size\n",
    "model_fit, weber, prob_choice_right, X = beta_extraction(\n",
    "    choice, idxs_test, N_list_test, TSA_list_test, FA_list_test\n",
    ")\n",
    "# Collect results for the current layer size\n",
    "results.append({\n",
    "    'Layer Size': f\"{layer_size[0]} {layer_size[1]}\",\n",
    "    'Intercept': model_fit,\n",
    "    'Beta Number': weber[0],\n",
    "    'Beta Size': weber[1],\n",
    "    'Beta Spacing': weber[2],\n",
    "    'Weber Fraction': prob_choice_right,\n",
    "    \"Accuracy\": acc\n",
    "})\n",
    "print(results)\n",
    "\n",
    "#Convert results to a DataFrame\n",
    "results_df = pd.DataFrame(results)\n",
    "\n",
    "# Save the DataFrame to an Excel file\n",
    "\n",
    "results_df.to_excel(output_file, index=False)\n",
    "\n",
    "print(f\"Results saved to {output_file}\")\n",
    "\n",
    "\n",
    "\n",
    "del dbn, XtrainComp, YtrainComp, XtestComp, YtestComp\n",
    "del _XtrainComp, _XtestComp, _YtrainComp, _YtestComp\n",
    "\n",
    "# Run garbage collection\n",
    "gc.collect()\n",
    "\n",
    "# Free unused CUDA memory\n",
    "torch.cuda.empty_cache()"
   ]
  }
 ],
 "metadata": {
  "kernelspec": {
   "display_name": "groundeep",
   "language": "python",
   "name": "python3"
  },
  "language_info": {
   "codemirror_mode": {
    "name": "ipython",
    "version": 3
   },
   "file_extension": ".py",
   "mimetype": "text/x-python",
   "name": "python",
   "nbconvert_exporter": "python",
   "pygments_lexer": "ipython3",
   "version": "3.10.12"
  }
 },
 "nbformat": 4,
 "nbformat_minor": 2
}
