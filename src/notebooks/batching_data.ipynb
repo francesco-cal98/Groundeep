{
 "cells": [
  {
   "cell_type": "code",
   "execution_count": 2,
   "metadata": {},
   "outputs": [],
   "source": [
    "import torch\n",
    "import numpy as np \n",
    "import matplotlib.pyplot as plt \n",
    "import sys \n",
    "import os \n",
    "import pickle as pkl"
   ]
  },
  {
   "cell_type": "code",
   "execution_count": 3,
   "metadata": {},
   "outputs": [],
   "source": [
    "sys.path.append(os.path.abspath(os.path.join(os.getcwd(), '..', '..')))"
   ]
  },
  {
   "cell_type": "code",
   "execution_count": 8,
   "metadata": {},
   "outputs": [
    {
     "name": "stdout",
     "output_type": "stream",
     "text": [
      "Value(False)\n"
     ]
    }
   ],
   "source": [
    "data = torch.load(r\"/home/student/Desktop/Groundeep/training_tensors/Num1_uint8.pt\")\n",
    "data.shape\n",
    "directory = \"/home/student/Desktop/Groundeep/training_tensors\"\n",
    "\n",
    "pt_files = sorted([os.path.join(directory, f) for f in os.listdir(directory) if f.endswith(\".pt\")])\n",
    "\n",
    "tensors = [torch.load(f) for f in pt_files]\n",
    "concatenated_tensor = torch.cat(tensors, dim=0)  # Change dim based on requirement\n",
    "\n",
    "\n",
    "with open(r\"/home/student/Desktop/Groundeep/training_tensors/dataset\", \"wb\") as f:\n",
    "    pkl.dump(concatenated_tensor, f)"
   ]
  },
  {
   "cell_type": "code",
   "execution_count": 7,
   "metadata": {},
   "outputs": [
    {
     "data": {
      "text/plain": [
       "torch.Size([300170, 10000])"
      ]
     },
     "execution_count": 7,
     "metadata": {},
     "output_type": "execute_result"
    }
   ],
   "source": [
    "concatenated_tensor.shape"
   ]
  },
  {
   "cell_type": "code",
   "execution_count": 22,
   "metadata": {},
   "outputs": [
    {
     "ename": "RuntimeError",
     "evalue": "shape '[3001, 100, 10000]' is invalid for input of size 3001700000",
     "output_type": "error",
     "traceback": [
      "\u001b[0;31m---------------------------------------------------------------------------\u001b[0m",
      "\u001b[0;31mRuntimeError\u001b[0m                              Traceback (most recent call last)",
      "Cell \u001b[0;32mIn[22], line 6\u001b[0m\n\u001b[1;32m      4\u001b[0m first_dim \u001b[38;5;241m=\u001b[39m total_elements \u001b[38;5;241m/\u001b[39m\u001b[38;5;241m/\u001b[39m target_shape_elements  \u001b[38;5;66;03m# Calculate the first dimension\u001b[39;00m\n\u001b[1;32m      5\u001b[0m first_dim\n\u001b[0;32m----> 6\u001b[0m \u001b[43mconcatenated_tensor\u001b[49m\u001b[38;5;241;43m.\u001b[39;49m\u001b[43mreshape\u001b[49m\u001b[43m(\u001b[49m\u001b[38;5;241;43m3001\u001b[39;49m\u001b[43m,\u001b[49m\u001b[38;5;241;43m100\u001b[39;49m\u001b[43m,\u001b[49m\u001b[38;5;241;43m10000\u001b[39;49m\u001b[43m)\u001b[49m\n",
      "\u001b[0;31mRuntimeError\u001b[0m: shape '[3001, 100, 10000]' is invalid for input of size 3001700000"
     ]
    }
   ],
   "source": [
    "total_elements =concatenated_tensor.numel()  # Total number of elements\n",
    "target_shape_elements = 100 * 10000  # Known dimensions\n",
    "\n",
    "first_dim = total_elements // target_shape_elements  # Calculate the first dimension\n",
    "first_dim\n",
    "concatenated_tensor.reshape(3001,100,10000)"
   ]
  },
  {
   "cell_type": "code",
   "execution_count": null,
   "metadata": {},
   "outputs": [],
   "source": []
  }
 ],
 "metadata": {
  "kernelspec": {
   "display_name": "groundeep",
   "language": "python",
   "name": "python3"
  },
  "language_info": {
   "codemirror_mode": {
    "name": "ipython",
    "version": 3
   },
   "file_extension": ".py",
   "mimetype": "text/x-python",
   "name": "python",
   "nbconvert_exporter": "python",
   "pygments_lexer": "ipython3",
   "version": "3.10.12"
  }
 },
 "nbformat": 4,
 "nbformat_minor": 2
}
