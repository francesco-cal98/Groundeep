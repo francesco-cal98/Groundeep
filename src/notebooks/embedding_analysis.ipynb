{
 "cells": [
  {
   "cell_type": "code",
   "execution_count": 2,
   "metadata": {},
   "outputs": [],
   "source": [
    "import  os, sys\n",
    "import pandas as pd\n",
    "import pickle as pkl\n",
    "from scipy.spatial.distance import pdist, squareform\n",
    "from sklearn.manifold import MDS\n",
    "from scipy import io\n",
    "import os\n",
    "import sys\n",
    "import seaborn as sns\n",
    "import numpy as np \n",
    "\n",
    "\n",
    "\n",
    "\n",
    "# Resolve project root (parent of src)\n",
    "current_dir = os.getcwd()\n",
    "project_root = os.path.abspath(os.path.join(current_dir, '..', '..'))\n",
    "sys.path.append(project_root)  # Add the project root to sys.path\n",
    "\n",
    "\n",
    "# Import module\n",
    "from src.datasets.uniform_dataset import create_dataloaders_uniform\n",
    "\n",
    "import importlib\n",
    "\n",
    "\n",
    "from src.analyses import embedding_analysis\n",
    "importlib.reload(embedding_analysis)\n",
    "\n",
    "from src.analyses.embedding_analysis import Embedding_analysis\n",
    "\n"
   ]
  },
  {
   "cell_type": "code",
   "execution_count": null,
   "metadata": {},
   "outputs": [
    {
     "name": "stdout",
     "output_type": "stream",
     "text": [
      "Value(False)\n"
     ]
    }
   ],
   "source": [
    "analyser = Embedding_analysis(\"/home/student/Desktop/Groundeep/training_tensors/zipfian/\",\"NumStim_1to40_100x100_TR_zipfian.npz\",\"/home/student/Desktop/Groundeep/networks/zipfian/idbn_trained_zipfian_500_2000.pkl\")\n",
    "embeddings,labels = analyser._get_encodings()\n",
    "embeddings = np.array(embeddings, dtype=np.float64)\n",
    "\n",
    "mds = MDS(n_components=2, max_iter=100,  n_jobs=1, dissimilarity = 'euclidean',random_state = 42)\n",
    "emb = mds.fit_transform(embeddings)\n",
    "\n",
    "import matplotlib.pyplot as plt\n",
    "import seaborn as sns\n",
    "\n",
    "import matplotlib.pyplot as plt\n",
    "import seaborn as sns\n",
    "import numpy as np\n",
    "from matplotlib.cm import get_cmap\n",
    "\n",
    "def plot_embeddings(emb, y, colormap=\"viridis\", ax=None):\n",
    "    if ax is None:\n",
    "        fig, ax = plt.subplots(figsize=(20, 10))\n",
    "    else:\n",
    "        fig = None\n",
    "\n",
    "    # Normalize y for color mapping (since y is ordinal)\n",
    "    num_classes = len(np.unique(y))\n",
    "    cmap = get_cmap(colormap, num_classes)  # Get a colormap with `num_classes` distinct colors\n",
    "    norm = plt.Normalize(vmin=min(y), vmax=max(y))  # Normalize labels\n",
    "\n",
    "    # Create scatter plot\n",
    "    sc = ax.scatter(emb[:, 0], emb[:, 1], c=y, cmap=cmap, norm=norm, s=40)\n",
    "    \n",
    "    # Add colorbar to show mapping of ordinal labels\n",
    "    cbar = plt.colorbar(sc, ax=ax, ticks=np.linspace(min(y), max(y), num_classes // 5))\n",
    "    cbar.set_label(\"Class Index\")\n",
    "\n",
    "    return fig, ax\n",
    "\n",
    "plot_embeddings(emb,labels)"
   ]
  },
  {
   "cell_type": "code",
   "execution_count": 29,
   "metadata": {},
   "outputs": [
    {
     "data": {
      "text/plain": [
       "(40000, 94640)"
      ]
     },
     "execution_count": 29,
     "metadata": {},
     "output_type": "execute_result"
    }
   ],
   "source": [
    "data = np.load(\"/home/student/Desktop/Groundeep/training_tensors/uniform/NumStim_1to40_200x200_TR_uniform.npz\")\n",
    "data['D'].shape"
   ]
  },
  {
   "cell_type": "code",
   "execution_count": 31,
   "metadata": {},
   "outputs": [
    {
     "data": {
      "text/plain": [
       "array([40, 40, 40, ...,  1,  1,  1], shape=(94640,))"
      ]
     },
     "execution_count": 31,
     "metadata": {},
     "output_type": "execute_result"
    }
   ],
   "source": [
    "data['N_list'].flatten(\n",
    ")"
   ]
  }
 ],
 "metadata": {
  "kernelspec": {
   "display_name": "groundeep",
   "language": "python",
   "name": "python3"
  },
  "language_info": {
   "codemirror_mode": {
    "name": "ipython",
    "version": 3
   },
   "file_extension": ".py",
   "mimetype": "text/x-python",
   "name": "python",
   "nbconvert_exporter": "python",
   "pygments_lexer": "ipython3",
   "version": "3.10.12"
  }
 },
 "nbformat": 4,
 "nbformat_minor": 2
}
