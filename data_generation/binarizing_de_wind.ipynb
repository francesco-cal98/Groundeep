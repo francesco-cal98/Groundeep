{
 "cells": [
  {
   "cell_type": "code",
   "execution_count": null,
   "id": "2a2e5e69",
   "metadata": {},
   "outputs": [],
   "source": [
    "import pickle as pkl\n",
    "import os\n",
    "import numpy as np \n",
    "import matplotlib.pyplot as plt"
   ]
  },
  {
   "cell_type": "code",
   "execution_count": 2,
   "id": "0d81759b",
   "metadata": {},
   "outputs": [],
   "source": [
    "with open('/home/student/Desktop/Groundeep/batched_train_data_from_mat.pkl', 'rb') as f:\n",
    "    data = pkl.load(f)\n",
    "\n",
    "\n",
    "binary_data = np.where(data['data'] >= 0.5, 255, 0).astype(np.uint8)\n",
    "\n",
    "# Salvataggio come file .npz\n",
    "np.savez('/home/student/Desktop/Groundeep/circle_dataset_100x100/binary_de_wind.npz', binary_data=binary_data)\n"
   ]
  },
  {
   "cell_type": "code",
   "execution_count": 5,
   "id": "267a2c64",
   "metadata": {},
   "outputs": [
    {
     "data": {
      "text/plain": [
       "(659, 100, 10000)"
      ]
     },
     "execution_count": 5,
     "metadata": {},
     "output_type": "execute_result"
    }
   ],
   "source": [
    "data = np.load('/home/student/Desktop/Groundeep/circle_dataset_100x100/binary_de_wind.npz')\n",
    "\n",
    "data = data['binary_data']\n",
    "\n",
    "data.shape"
   ]
  }
 ],
 "metadata": {
  "kernelspec": {
   "display_name": "groundeep",
   "language": "python",
   "name": "python3"
  },
  "language_info": {
   "codemirror_mode": {
    "name": "ipython",
    "version": 3
   },
   "file_extension": ".py",
   "mimetype": "text/x-python",
   "name": "python",
   "nbconvert_exporter": "python",
   "pygments_lexer": "ipython3",
   "version": "3.10.12"
  }
 },
 "nbformat": 4,
 "nbformat_minor": 5
}
